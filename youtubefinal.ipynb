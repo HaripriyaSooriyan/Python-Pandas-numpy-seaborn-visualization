{
 "cells": [
  {
   "cell_type": "code",
   "execution_count": 1,
   "id": "4f8bf192",
   "metadata": {},
   "outputs": [],
   "source": [
    "import seaborn as sns"
   ]
  },
  {
   "cell_type": "code",
   "execution_count": 2,
   "id": "261e6617",
   "metadata": {},
   "outputs": [
    {
     "data": {
      "text/html": [
       "<svg  width=\"550\" height=\"55\"><rect x=\"0\" y=\"0\" width=\"55\" height=\"55\" style=\"fill:#1f77b4;stroke-width:2;stroke:rgb(255,255,255)\"/><rect x=\"55\" y=\"0\" width=\"55\" height=\"55\" style=\"fill:#ff7f0e;stroke-width:2;stroke:rgb(255,255,255)\"/><rect x=\"110\" y=\"0\" width=\"55\" height=\"55\" style=\"fill:#2ca02c;stroke-width:2;stroke:rgb(255,255,255)\"/><rect x=\"165\" y=\"0\" width=\"55\" height=\"55\" style=\"fill:#d62728;stroke-width:2;stroke:rgb(255,255,255)\"/><rect x=\"220\" y=\"0\" width=\"55\" height=\"55\" style=\"fill:#9467bd;stroke-width:2;stroke:rgb(255,255,255)\"/><rect x=\"275\" y=\"0\" width=\"55\" height=\"55\" style=\"fill:#8c564b;stroke-width:2;stroke:rgb(255,255,255)\"/><rect x=\"330\" y=\"0\" width=\"55\" height=\"55\" style=\"fill:#e377c2;stroke-width:2;stroke:rgb(255,255,255)\"/><rect x=\"385\" y=\"0\" width=\"55\" height=\"55\" style=\"fill:#7f7f7f;stroke-width:2;stroke:rgb(255,255,255)\"/><rect x=\"440\" y=\"0\" width=\"55\" height=\"55\" style=\"fill:#bcbd22;stroke-width:2;stroke:rgb(255,255,255)\"/><rect x=\"495\" y=\"0\" width=\"55\" height=\"55\" style=\"fill:#17becf;stroke-width:2;stroke:rgb(255,255,255)\"/></svg>"
      ],
      "text/plain": [
       "[(0.12156862745098039, 0.4666666666666667, 0.7058823529411765),\n",
       " (1.0, 0.4980392156862745, 0.054901960784313725),\n",
       " (0.17254901960784313, 0.6274509803921569, 0.17254901960784313),\n",
       " (0.8392156862745098, 0.15294117647058825, 0.1568627450980392),\n",
       " (0.5803921568627451, 0.403921568627451, 0.7411764705882353),\n",
       " (0.5490196078431373, 0.33725490196078434, 0.29411764705882354),\n",
       " (0.8901960784313725, 0.4666666666666667, 0.7607843137254902),\n",
       " (0.4980392156862745, 0.4980392156862745, 0.4980392156862745),\n",
       " (0.7372549019607844, 0.7411764705882353, 0.13333333333333333),\n",
       " (0.09019607843137255, 0.7450980392156863, 0.8117647058823529)]"
      ]
     },
     "execution_count": 2,
     "metadata": {},
     "output_type": "execute_result"
    }
   ],
   "source": [
    "import numpy as np\n",
    "import pandas as pd\n",
    "import matplotlib.pyplot as plt\n",
    "sns. color_palette()"
   ]
  },
  {
   "cell_type": "code",
   "execution_count": 3,
   "id": "be2f63ec",
   "metadata": {},
   "outputs": [],
   "source": [
    "youtube_df=pd.read_csv(\"C:/Users/soori/Desktop/face class/Data sci-Projects/dataset_project1/dataset_project1/social media influencers - youtube.csv\")\n"
   ]
  },
  {
   "cell_type": "code",
   "execution_count": 4,
   "id": "a0cbb24e",
   "metadata": {},
   "outputs": [
    {
     "data": {
      "text/html": [
       "<div>\n",
       "<style scoped>\n",
       "    .dataframe tbody tr th:only-of-type {\n",
       "        vertical-align: middle;\n",
       "    }\n",
       "\n",
       "    .dataframe tbody tr th {\n",
       "        vertical-align: top;\n",
       "    }\n",
       "\n",
       "    .dataframe thead th {\n",
       "        text-align: right;\n",
       "    }\n",
       "</style>\n",
       "<table border=\"1\" class=\"dataframe\">\n",
       "  <thead>\n",
       "    <tr style=\"text-align: right;\">\n",
       "      <th></th>\n",
       "      <th>youtuber name</th>\n",
       "      <th>channel name</th>\n",
       "      <th>Category</th>\n",
       "      <th>Subscribers</th>\n",
       "      <th>Audience Country</th>\n",
       "      <th>avg views</th>\n",
       "      <th>avg likes</th>\n",
       "      <th>avg comments</th>\n",
       "    </tr>\n",
       "  </thead>\n",
       "  <tbody>\n",
       "    <tr>\n",
       "      <th>0</th>\n",
       "      <td>tseries</td>\n",
       "      <td>T-Series</td>\n",
       "      <td>Music &amp; Dance</td>\n",
       "      <td>212.1M</td>\n",
       "      <td>India</td>\n",
       "      <td>323.7K</td>\n",
       "      <td>9.8K</td>\n",
       "      <td>290</td>\n",
       "    </tr>\n",
       "    <tr>\n",
       "      <th>1</th>\n",
       "      <td>checkgate</td>\n",
       "      <td>Cocomelon - Nursery Rhymes</td>\n",
       "      <td>Education</td>\n",
       "      <td>132.1M</td>\n",
       "      <td>NaN</td>\n",
       "      <td>13.8M</td>\n",
       "      <td>80.9K</td>\n",
       "      <td>NaN</td>\n",
       "    </tr>\n",
       "    <tr>\n",
       "      <th>2</th>\n",
       "      <td>setindia</td>\n",
       "      <td>SET India</td>\n",
       "      <td>NaN</td>\n",
       "      <td>130.4M</td>\n",
       "      <td>India</td>\n",
       "      <td>23.6K</td>\n",
       "      <td>314</td>\n",
       "      <td>21</td>\n",
       "    </tr>\n",
       "    <tr>\n",
       "      <th>3</th>\n",
       "      <td>PewDiePie</td>\n",
       "      <td>PewDiePie</td>\n",
       "      <td>Animation</td>\n",
       "      <td>111.4M</td>\n",
       "      <td>United States</td>\n",
       "      <td>1.4M</td>\n",
       "      <td>80.8K</td>\n",
       "      <td>4.6K</td>\n",
       "    </tr>\n",
       "    <tr>\n",
       "      <th>4</th>\n",
       "      <td>MrBeast6000</td>\n",
       "      <td>MrBeast</td>\n",
       "      <td>Video games</td>\n",
       "      <td>92.5M</td>\n",
       "      <td>United States</td>\n",
       "      <td>30.6M</td>\n",
       "      <td>1.7M</td>\n",
       "      <td>67.7K</td>\n",
       "    </tr>\n",
       "  </tbody>\n",
       "</table>\n",
       "</div>"
      ],
      "text/plain": [
       "  youtuber name                channel name       Category Subscribers  \\\n",
       "0       tseries                    T-Series  Music & Dance      212.1M   \n",
       "1     checkgate  Cocomelon - Nursery Rhymes      Education      132.1M   \n",
       "2      setindia                   SET India            NaN      130.4M   \n",
       "3     PewDiePie                   PewDiePie      Animation      111.4M   \n",
       "4   MrBeast6000                     MrBeast    Video games       92.5M   \n",
       "\n",
       "  Audience Country avg views avg likes avg comments  \n",
       "0            India    323.7K      9.8K          290  \n",
       "1              NaN     13.8M     80.9K          NaN  \n",
       "2            India     23.6K       314           21  \n",
       "3    United States      1.4M     80.8K         4.6K  \n",
       "4    United States     30.6M      1.7M        67.7K  "
      ]
     },
     "execution_count": 4,
     "metadata": {},
     "output_type": "execute_result"
    }
   ],
   "source": [
    "youtube_df.head()"
   ]
  },
  {
   "cell_type": "code",
   "execution_count": 5,
   "id": "4642ab78",
   "metadata": {},
   "outputs": [
    {
     "data": {
      "text/plain": [
       "(1000, 8)"
      ]
     },
     "execution_count": 5,
     "metadata": {},
     "output_type": "execute_result"
    }
   ],
   "source": [
    "youtube_df.shape"
   ]
  },
  {
   "cell_type": "code",
   "execution_count": 6,
   "id": "be68d518",
   "metadata": {},
   "outputs": [
    {
     "data": {
      "text/plain": [
       "<bound method NDFrame.describe of     youtuber name                channel name       Category Subscribers  \\\n",
       "0         tseries                    T-Series  Music & Dance      212.1M   \n",
       "1       checkgate  Cocomelon - Nursery Rhymes      Education      132.1M   \n",
       "2        setindia                   SET India            NaN      130.4M   \n",
       "3       PewDiePie                   PewDiePie      Animation      111.4M   \n",
       "4     MrBeast6000                     MrBeast    Video games       92.5M   \n",
       "..            ...                         ...            ...         ...   \n",
       "995   FutParódias                 FutParódias  Music & Dance        9.2M   \n",
       "996       EL GATO                     EL GATO           Toys        9.2M   \n",
       "997    CinemaSins                  CinemaSins         Movies        9.2M   \n",
       "998    CricketICC                         ICC         Sports        9.2M   \n",
       "999       BRKsEDU                     BRKsEDU      Animation        9.2M   \n",
       "\n",
       "    Audience Country avg views avg likes avg comments  \n",
       "0              India    323.7K      9.8K          290  \n",
       "1                NaN     13.8M     80.9K          NaN  \n",
       "2              India     23.6K       314           21  \n",
       "3      United States      1.4M     80.8K         4.6K  \n",
       "4      United States     30.6M      1.7M        67.7K  \n",
       "..               ...       ...       ...          ...  \n",
       "995           Brazil      1.4M    110.1K         2.5K  \n",
       "996           Brazil    243.8K     30.7K          636  \n",
       "997    United States      296K     10.2K          874  \n",
       "998            India     15.2K       854           58  \n",
       "999           Brazil    112.3K      9.8K          246  \n",
       "\n",
       "[1000 rows x 8 columns]>"
      ]
     },
     "execution_count": 6,
     "metadata": {},
     "output_type": "execute_result"
    }
   ],
   "source": [
    "youtube_df.describe"
   ]
  },
  {
   "cell_type": "code",
   "execution_count": 7,
   "id": "411e11a5",
   "metadata": {},
   "outputs": [
    {
     "data": {
      "text/plain": [
       "youtuber name       object\n",
       "channel name        object\n",
       "Category            object\n",
       "Subscribers         object\n",
       "Audience Country    object\n",
       "avg views           object\n",
       "avg likes           object\n",
       "avg comments        object\n",
       "dtype: object"
      ]
     },
     "execution_count": 7,
     "metadata": {},
     "output_type": "execute_result"
    }
   ],
   "source": [
    "youtube_df.dtypes"
   ]
  },
  {
   "cell_type": "code",
   "execution_count": 8,
   "id": "dcdc6835",
   "metadata": {},
   "outputs": [
    {
     "name": "stdout",
     "output_type": "stream",
     "text": [
      "<class 'pandas.core.frame.DataFrame'>\n",
      "RangeIndex: 1000 entries, 0 to 999\n",
      "Data columns (total 8 columns):\n",
      " #   Column            Non-Null Count  Dtype \n",
      "---  ------            --------------  ----- \n",
      " 0   youtuber name     1000 non-null   object\n",
      " 1   channel name      1000 non-null   object\n",
      " 2   Category          723 non-null    object\n",
      " 3   Subscribers       1000 non-null   object\n",
      " 4   Audience Country  839 non-null    object\n",
      " 5   avg views         1000 non-null   object\n",
      " 6   avg likes         962 non-null    object\n",
      " 7   avg comments      791 non-null    object\n",
      "dtypes: object(8)\n",
      "memory usage: 62.6+ KB\n"
     ]
    }
   ],
   "source": [
    "youtube_df.info()"
   ]
  },
  {
   "cell_type": "code",
   "execution_count": 9,
   "id": "3f53d435",
   "metadata": {},
   "outputs": [
    {
     "data": {
      "text/plain": [
       "youtuber name         0\n",
       "channel name          0\n",
       "Category            277\n",
       "Subscribers           0\n",
       "Audience Country    161\n",
       "avg views             0\n",
       "avg likes            38\n",
       "avg comments        209\n",
       "dtype: int64"
      ]
     },
     "execution_count": 9,
     "metadata": {},
     "output_type": "execute_result"
    }
   ],
   "source": [
    "youtube_df.isna().sum()"
   ]
  },
  {
   "cell_type": "code",
   "execution_count": 10,
   "id": "7178c96e",
   "metadata": {},
   "outputs": [
    {
     "data": {
      "text/plain": [
       "1000"
      ]
     },
     "execution_count": 10,
     "metadata": {},
     "output_type": "execute_result"
    }
   ],
   "source": [
    "len(youtube_df)"
   ]
  },
  {
   "cell_type": "code",
   "execution_count": 11,
   "id": "9d191b2e",
   "metadata": {},
   "outputs": [],
   "source": [
    "youtube_df.dropna(inplace=True)"
   ]
  },
  {
   "cell_type": "code",
   "execution_count": 12,
   "id": "b27d9f83",
   "metadata": {},
   "outputs": [
    {
     "data": {
      "text/plain": [
       "572"
      ]
     },
     "execution_count": 12,
     "metadata": {},
     "output_type": "execute_result"
    }
   ],
   "source": [
    "len(youtube_df)"
   ]
  },
  {
   "cell_type": "code",
   "execution_count": 13,
   "id": "871d4417",
   "metadata": {},
   "outputs": [
    {
     "data": {
      "text/html": [
       "<div>\n",
       "<style scoped>\n",
       "    .dataframe tbody tr th:only-of-type {\n",
       "        vertical-align: middle;\n",
       "    }\n",
       "\n",
       "    .dataframe tbody tr th {\n",
       "        vertical-align: top;\n",
       "    }\n",
       "\n",
       "    .dataframe thead th {\n",
       "        text-align: right;\n",
       "    }\n",
       "</style>\n",
       "<table border=\"1\" class=\"dataframe\">\n",
       "  <thead>\n",
       "    <tr style=\"text-align: right;\">\n",
       "      <th></th>\n",
       "      <th>youtuber name</th>\n",
       "      <th>channel name</th>\n",
       "      <th>Category</th>\n",
       "      <th>Subscribers</th>\n",
       "      <th>Audience Country</th>\n",
       "      <th>avg views</th>\n",
       "      <th>avg likes</th>\n",
       "      <th>avg comments</th>\n",
       "    </tr>\n",
       "  </thead>\n",
       "  <tbody>\n",
       "  </tbody>\n",
       "</table>\n",
       "</div>"
      ],
      "text/plain": [
       "Empty DataFrame\n",
       "Columns: [youtuber name, channel name, Category, Subscribers, Audience Country, avg views, avg likes, avg comments]\n",
       "Index: []"
      ]
     },
     "execution_count": 13,
     "metadata": {},
     "output_type": "execute_result"
    }
   ],
   "source": [
    "youtube_df[youtube_df['Category'].str[0:2]=='Ca']"
   ]
  },
  {
   "cell_type": "code",
   "execution_count": 14,
   "id": "8dff36f0",
   "metadata": {},
   "outputs": [
    {
     "data": {
      "text/plain": [
       "youtuber name       0\n",
       "channel name        0\n",
       "Category            0\n",
       "Subscribers         0\n",
       "Audience Country    0\n",
       "avg views           0\n",
       "avg likes           0\n",
       "avg comments        0\n",
       "dtype: int64"
      ]
     },
     "execution_count": 14,
     "metadata": {},
     "output_type": "execute_result"
    }
   ],
   "source": [
    "youtube_df.isna().sum()"
   ]
  },
  {
   "cell_type": "code",
   "execution_count": 15,
   "id": "d3570ced",
   "metadata": {},
   "outputs": [
    {
     "data": {
      "text/plain": [
       "youtuber name       object\n",
       "channel name        object\n",
       "Category            object\n",
       "Subscribers         object\n",
       "Audience Country    object\n",
       "avg views           object\n",
       "avg likes           object\n",
       "avg comments        object\n",
       "dtype: object"
      ]
     },
     "execution_count": 15,
     "metadata": {},
     "output_type": "execute_result"
    }
   ],
   "source": [
    "youtube_df.dtypes"
   ]
  },
  {
   "cell_type": "code",
   "execution_count": 16,
   "id": "7c2ca99d",
   "metadata": {},
   "outputs": [
    {
     "data": {
      "text/html": [
       "<div>\n",
       "<style scoped>\n",
       "    .dataframe tbody tr th:only-of-type {\n",
       "        vertical-align: middle;\n",
       "    }\n",
       "\n",
       "    .dataframe tbody tr th {\n",
       "        vertical-align: top;\n",
       "    }\n",
       "\n",
       "    .dataframe thead th {\n",
       "        text-align: right;\n",
       "    }\n",
       "</style>\n",
       "<table border=\"1\" class=\"dataframe\">\n",
       "  <thead>\n",
       "    <tr style=\"text-align: right;\">\n",
       "      <th></th>\n",
       "      <th>youtuber name</th>\n",
       "      <th>channel name</th>\n",
       "      <th>Category</th>\n",
       "      <th>Subscribers</th>\n",
       "      <th>Audience Country</th>\n",
       "      <th>avg views</th>\n",
       "      <th>avg likes</th>\n",
       "      <th>avg comments</th>\n",
       "    </tr>\n",
       "  </thead>\n",
       "  <tbody>\n",
       "    <tr>\n",
       "      <th>0</th>\n",
       "      <td>tseries</td>\n",
       "      <td>T-Series</td>\n",
       "      <td>Music &amp; Dance</td>\n",
       "      <td>212.1M</td>\n",
       "      <td>India</td>\n",
       "      <td>323.7K</td>\n",
       "      <td>9.8K</td>\n",
       "      <td>290</td>\n",
       "    </tr>\n",
       "    <tr>\n",
       "      <th>3</th>\n",
       "      <td>PewDiePie</td>\n",
       "      <td>PewDiePie</td>\n",
       "      <td>Animation</td>\n",
       "      <td>111.4M</td>\n",
       "      <td>United States</td>\n",
       "      <td>1.4M</td>\n",
       "      <td>80.8K</td>\n",
       "      <td>4.6K</td>\n",
       "    </tr>\n",
       "    <tr>\n",
       "      <th>4</th>\n",
       "      <td>MrBeast6000</td>\n",
       "      <td>MrBeast</td>\n",
       "      <td>Video games</td>\n",
       "      <td>92.5M</td>\n",
       "      <td>United States</td>\n",
       "      <td>30.6M</td>\n",
       "      <td>1.7M</td>\n",
       "      <td>67.7K</td>\n",
       "    </tr>\n",
       "    <tr>\n",
       "      <th>7</th>\n",
       "      <td>WWEFanNation</td>\n",
       "      <td>WWE</td>\n",
       "      <td>Video games</td>\n",
       "      <td>86.9M</td>\n",
       "      <td>United States</td>\n",
       "      <td>76.6K</td>\n",
       "      <td>2.8K</td>\n",
       "      <td>163</td>\n",
       "    </tr>\n",
       "    <tr>\n",
       "      <th>8</th>\n",
       "      <td>zeemusiccompany</td>\n",
       "      <td>Zee Music Company</td>\n",
       "      <td>Music &amp; Dance</td>\n",
       "      <td>82.7M</td>\n",
       "      <td>India</td>\n",
       "      <td>108.7K</td>\n",
       "      <td>4.2K</td>\n",
       "      <td>155</td>\n",
       "    </tr>\n",
       "  </tbody>\n",
       "</table>\n",
       "</div>"
      ],
      "text/plain": [
       "     youtuber name       channel name       Category Subscribers  \\\n",
       "0          tseries           T-Series  Music & Dance      212.1M   \n",
       "3        PewDiePie          PewDiePie      Animation      111.4M   \n",
       "4      MrBeast6000            MrBeast    Video games       92.5M   \n",
       "7     WWEFanNation                WWE    Video games       86.9M   \n",
       "8  zeemusiccompany  Zee Music Company  Music & Dance       82.7M   \n",
       "\n",
       "  Audience Country avg views avg likes avg comments  \n",
       "0            India    323.7K      9.8K          290  \n",
       "3    United States      1.4M     80.8K         4.6K  \n",
       "4    United States     30.6M      1.7M        67.7K  \n",
       "7    United States     76.6K      2.8K          163  \n",
       "8            India    108.7K      4.2K          155  "
      ]
     },
     "execution_count": 16,
     "metadata": {},
     "output_type": "execute_result"
    }
   ],
   "source": [
    "youtube_df.head()"
   ]
  },
  {
   "cell_type": "code",
   "execution_count": 17,
   "id": "ee36a6ae",
   "metadata": {},
   "outputs": [],
   "source": [
    "def Convert_to_int(value):\n",
    "    #print(\"hi: \",value)\n",
    "    try:\n",
    "        #print(\"hi: \",value)\n",
    "        suffix=value[-1] \n",
    "        #print(\"suf: \",suffix)\n",
    "        if suffix=='M':\n",
    "            factor=1000000\n",
    "            #print(\"M reached\")\n",
    "            \n",
    "        elif suffix=='K':\n",
    "            factor=1000\n",
    "            \n",
    "        else:\n",
    "            return value\n",
    "        #print(\"return reached\")\n",
    "        #temp=int(float(value[:-1])*factor)\n",
    "        #print(\"return######: \",temp)\n",
    "        #return int(float(value[:-1]*factor))\n",
    "        return int(float(value[:-1])*factor)\n",
    "    \n",
    "    except:\n",
    "        #print(\"except\")\n",
    "        #print(\"value: \",value)\n",
    "        return value\n",
    "        "
   ]
  },
  {
   "cell_type": "code",
   "execution_count": 18,
   "id": "99521cc5",
   "metadata": {},
   "outputs": [],
   "source": [
    "youtube_df[\"Subscribers\"]=youtube_df[\"Subscribers\"].apply(Convert_to_int)"
   ]
  },
  {
   "cell_type": "code",
   "execution_count": 19,
   "id": "b52aade7",
   "metadata": {},
   "outputs": [
    {
     "data": {
      "text/plain": [
       "0      212100000\n",
       "3      111400000\n",
       "4       92500000\n",
       "7       86900000\n",
       "8       82700000\n",
       "         ...    \n",
       "995      9200000\n",
       "996      9200000\n",
       "997      9200000\n",
       "998      9200000\n",
       "999      9200000\n",
       "Name: Subscribers, Length: 572, dtype: int64"
      ]
     },
     "execution_count": 19,
     "metadata": {},
     "output_type": "execute_result"
    }
   ],
   "source": [
    "youtube_df[\"Subscribers\"]"
   ]
  },
  {
   "cell_type": "code",
   "execution_count": 20,
   "id": "31b1e647",
   "metadata": {},
   "outputs": [],
   "source": [
    "youtube_df[\"avg views\"]=youtube_df[\"avg views\"].apply(Convert_to_int)"
   ]
  },
  {
   "cell_type": "code",
   "execution_count": 21,
   "id": "483bd8db",
   "metadata": {},
   "outputs": [
    {
     "data": {
      "text/plain": [
       "0        323700\n",
       "3       1400000\n",
       "4      30600000\n",
       "7         76600\n",
       "8        108700\n",
       "         ...   \n",
       "995     1400000\n",
       "996      243800\n",
       "997      296000\n",
       "998       15200\n",
       "999      112300\n",
       "Name: avg views, Length: 572, dtype: int64"
      ]
     },
     "execution_count": 21,
     "metadata": {},
     "output_type": "execute_result"
    }
   ],
   "source": [
    "youtube_df[\"avg views\"]"
   ]
  },
  {
   "cell_type": "code",
   "execution_count": 22,
   "id": "cbeb9cf8",
   "metadata": {},
   "outputs": [],
   "source": [
    "youtube_df[\"avg likes\"]=youtube_df[\"avg likes\"].apply(Convert_to_int)"
   ]
  },
  {
   "cell_type": "code",
   "execution_count": 23,
   "id": "b0404ef8",
   "metadata": {},
   "outputs": [],
   "source": [
    "youtube_df[\"avg comments\"]=youtube_df[\"avg comments\"].apply(Convert_to_int)"
   ]
  },
  {
   "cell_type": "code",
   "execution_count": 25,
   "id": "67772d4c",
   "metadata": {},
   "outputs": [
    {
     "data": {
      "text/html": [
       "<div>\n",
       "<style scoped>\n",
       "    .dataframe tbody tr th:only-of-type {\n",
       "        vertical-align: middle;\n",
       "    }\n",
       "\n",
       "    .dataframe tbody tr th {\n",
       "        vertical-align: top;\n",
       "    }\n",
       "\n",
       "    .dataframe thead th {\n",
       "        text-align: right;\n",
       "    }\n",
       "</style>\n",
       "<table border=\"1\" class=\"dataframe\">\n",
       "  <thead>\n",
       "    <tr style=\"text-align: right;\">\n",
       "      <th></th>\n",
       "      <th>youtuber name</th>\n",
       "      <th>channel name</th>\n",
       "      <th>Category</th>\n",
       "      <th>Subscribers</th>\n",
       "      <th>Audience Country</th>\n",
       "      <th>avg views</th>\n",
       "      <th>avg likes</th>\n",
       "      <th>avg comments</th>\n",
       "    </tr>\n",
       "  </thead>\n",
       "  <tbody>\n",
       "    <tr>\n",
       "      <th>0</th>\n",
       "      <td>tseries</td>\n",
       "      <td>T-Series</td>\n",
       "      <td>Music &amp; Dance</td>\n",
       "      <td>212100000</td>\n",
       "      <td>India</td>\n",
       "      <td>323700</td>\n",
       "      <td>9800</td>\n",
       "      <td>290</td>\n",
       "    </tr>\n",
       "    <tr>\n",
       "      <th>3</th>\n",
       "      <td>PewDiePie</td>\n",
       "      <td>PewDiePie</td>\n",
       "      <td>Animation</td>\n",
       "      <td>111400000</td>\n",
       "      <td>United States</td>\n",
       "      <td>1400000</td>\n",
       "      <td>80800</td>\n",
       "      <td>4600</td>\n",
       "    </tr>\n",
       "    <tr>\n",
       "      <th>4</th>\n",
       "      <td>MrBeast6000</td>\n",
       "      <td>MrBeast</td>\n",
       "      <td>Video games</td>\n",
       "      <td>92500000</td>\n",
       "      <td>United States</td>\n",
       "      <td>30600000</td>\n",
       "      <td>1700000</td>\n",
       "      <td>67700</td>\n",
       "    </tr>\n",
       "    <tr>\n",
       "      <th>7</th>\n",
       "      <td>WWEFanNation</td>\n",
       "      <td>WWE</td>\n",
       "      <td>Video games</td>\n",
       "      <td>86900000</td>\n",
       "      <td>United States</td>\n",
       "      <td>76600</td>\n",
       "      <td>2800</td>\n",
       "      <td>163</td>\n",
       "    </tr>\n",
       "    <tr>\n",
       "      <th>8</th>\n",
       "      <td>zeemusiccompany</td>\n",
       "      <td>Zee Music Company</td>\n",
       "      <td>Music &amp; Dance</td>\n",
       "      <td>82700000</td>\n",
       "      <td>India</td>\n",
       "      <td>108700</td>\n",
       "      <td>4200</td>\n",
       "      <td>155</td>\n",
       "    </tr>\n",
       "  </tbody>\n",
       "</table>\n",
       "</div>"
      ],
      "text/plain": [
       "     youtuber name       channel name       Category  Subscribers  \\\n",
       "0          tseries           T-Series  Music & Dance    212100000   \n",
       "3        PewDiePie          PewDiePie      Animation    111400000   \n",
       "4      MrBeast6000            MrBeast    Video games     92500000   \n",
       "7     WWEFanNation                WWE    Video games     86900000   \n",
       "8  zeemusiccompany  Zee Music Company  Music & Dance     82700000   \n",
       "\n",
       "  Audience Country  avg views avg likes avg comments  \n",
       "0            India     323700      9800          290  \n",
       "3    United States    1400000     80800         4600  \n",
       "4    United States   30600000   1700000        67700  \n",
       "7    United States      76600      2800          163  \n",
       "8            India     108700      4200          155  "
      ]
     },
     "execution_count": 25,
     "metadata": {},
     "output_type": "execute_result"
    }
   ],
   "source": [
    "youtube_df.head()"
   ]
  },
  {
   "cell_type": "code",
   "execution_count": 26,
   "id": "f99bb9e4",
   "metadata": {},
   "outputs": [],
   "source": [
    "#1.top 5 you tube channels having many subscribers?"
   ]
  },
  {
   "cell_type": "code",
   "execution_count": 27,
   "id": "39758b1a",
   "metadata": {},
   "outputs": [
    {
     "data": {
      "image/png": "[encoded data removed]",
      "text/plain": [
       "<Figure size 600x300 with 1 Axes>"
      ]
     },
     "metadata": {},
     "output_type": "display_data"
    }
   ],
   "source": [
    "plt.figure(figsize = (6,3),dpi=100)\n",
    "sns.barplot(x='youtuber name',y='Subscribers',data=youtube_df.head(5))\n",
    "plt.xticks(rotation=90);"
   ]
  },
  {
   "cell_type": "code",
   "execution_count": 31,
   "id": "bdb2f688",
   "metadata": {},
   "outputs": [],
   "source": [
    "#2.which category has more number of likes?"
   ]
  },
  {
   "cell_type": "code",
   "execution_count": 32,
   "id": "4109b9dd",
   "metadata": {},
   "outputs": [
    {
     "data": {
      "image/png": "[encoded data removed]",
      "text/plain": [
       "<Figure size 600x300 with 1 Axes>"
      ]
     },
     "metadata": {},
     "output_type": "display_data"
    }
   ],
   "source": [
    "plt.figure(figsize = (6,3),dpi=100)\n",
    "sns.barplot(x='Category',y='avg likes',data=youtube_df.head(5))\n",
    "plt.xticks(rotation=90);"
   ]
  },
  {
   "cell_type": "code",
   "execution_count": 33,
   "id": "54455b03",
   "metadata": {},
   "outputs": [],
   "source": [
    "#3.Scatter plot to show the relationship between avg views and avg likes ."
   ]
  },
  {
   "cell_type": "code",
   "execution_count": 34,
   "id": "8ff0c456",
   "metadata": {},
   "outputs": [
    {
     "data": {
      "text/plain": [
       "<AxesSubplot:xlabel='avg likes', ylabel='avg views'>"
      ]
     },
     "execution_count": 34,
     "metadata": {},
     "output_type": "execute_result"
    },
    {
     "data": {
      "image/png": "[encoded data removed]",
      "text/plain": [
       "<Figure size 600x1000 with 1 Axes>"
      ]
     },
     "metadata": {},
     "output_type": "display_data"
    }
   ],
   "source": [
    "plt.figure(figsize = (6,10),dpi=100)\n",
    "sns.scatterplot(x = 'avg likes' , y = 'avg views',hue='Category',color='red',\n",
    "                data = youtube_df)"
   ]
  },
  {
   "cell_type": "code",
   "execution_count": 35,
   "id": "cfb42505",
   "metadata": {},
   "outputs": [
    {
     "data": {
      "image/png": "[encoded data removed]",
      "text/plain": [
       "<Figure size 600x1000 with 1 Axes>"
      ]
     },
     "metadata": {},
     "output_type": "display_data"
    }
   ],
   "source": [
    "#4.finding which country has maximum number of audience?\n",
    "plt.figure(figsize = (6,10),dpi=100)\n",
    "chart = sns.countplot(x=\"Audience Country\", data=youtube_df);\n",
    "plt.xticks(rotation=90);"
   ]
  },
  {
   "cell_type": "code",
   "execution_count": 37,
   "id": "3dfbdcce",
   "metadata": {},
   "outputs": [
    {
     "data": {
      "text/plain": [
       "youtuber name       object\n",
       "channel name        object\n",
       "Category            object\n",
       "Subscribers          int64\n",
       "Audience Country    object\n",
       "avg views            int64\n",
       "avg likes           object\n",
       "avg comments        object\n",
       "dtype: object"
      ]
     },
     "execution_count": 37,
     "metadata": {},
     "output_type": "execute_result"
    }
   ],
   "source": [
    "youtube_df.dtypes"
   ]
  },
  {
   "cell_type": "code",
   "execution_count": 38,
   "id": "0a59400e",
   "metadata": {},
   "outputs": [
    {
     "data": {
      "text/plain": [
       "0         9800\n",
       "3        80800\n",
       "4      1700000\n",
       "7         2800\n",
       "8         4200\n",
       "        ...   \n",
       "995     110100\n",
       "996      30700\n",
       "997      10200\n",
       "998        854\n",
       "999       9800\n",
       "Name: avg likes, Length: 572, dtype: object"
      ]
     },
     "execution_count": 38,
     "metadata": {},
     "output_type": "execute_result"
    }
   ],
   "source": [
    "youtube_df[\"avg likes\"]"
   ]
  },
  {
   "cell_type": "code",
   "execution_count": 39,
   "id": "09c60f93",
   "metadata": {},
   "outputs": [],
   "source": [
    "youtube_df[\"avg likes\"]=youtube_df[\"avg likes\"].apply(Convert_to_int)"
   ]
  },
  {
   "cell_type": "code",
   "execution_count": 40,
   "id": "833f1043",
   "metadata": {},
   "outputs": [
    {
     "data": {
      "text/plain": [
       "0         9800\n",
       "3        80800\n",
       "4      1700000\n",
       "7         2800\n",
       "8         4200\n",
       "        ...   \n",
       "995     110100\n",
       "996      30700\n",
       "997      10200\n",
       "998        854\n",
       "999       9800\n",
       "Name: avg likes, Length: 572, dtype: object"
      ]
     },
     "execution_count": 40,
     "metadata": {},
     "output_type": "execute_result"
    }
   ],
   "source": [
    "youtube_df[\"avg likes\"]"
   ]
  },
  {
   "cell_type": "code",
   "execution_count": 41,
   "id": "60382a1d",
   "metadata": {},
   "outputs": [
    {
     "data": {
      "text/plain": [
       "youtuber name       0\n",
       "channel name        0\n",
       "Category            0\n",
       "Subscribers         0\n",
       "Audience Country    0\n",
       "avg views           0\n",
       "avg likes           0\n",
       "avg comments        0\n",
       "dtype: int64"
      ]
     },
     "execution_count": 41,
     "metadata": {},
     "output_type": "execute_result"
    }
   ],
   "source": [
    "youtube_df.isna().sum()"
   ]
  },
  {
   "cell_type": "code",
   "execution_count": 42,
   "id": "104e6880",
   "metadata": {},
   "outputs": [],
   "source": [
    "youtube_df[\"avg likes\"]=youtube_df[\"avg likes\"].apply(Convert_to_int)"
   ]
  },
  {
   "cell_type": "code",
   "execution_count": 43,
   "id": "7fc286ec",
   "metadata": {},
   "outputs": [
    {
     "data": {
      "text/plain": [
       "0         9800\n",
       "3        80800\n",
       "4      1700000\n",
       "7         2800\n",
       "8         4200\n",
       "        ...   \n",
       "995     110100\n",
       "996      30700\n",
       "997      10200\n",
       "998        854\n",
       "999       9800\n",
       "Name: avg likes, Length: 572, dtype: object"
      ]
     },
     "execution_count": 43,
     "metadata": {},
     "output_type": "execute_result"
    }
   ],
   "source": [
    "youtube_df[\"avg likes\"]"
   ]
  },
  {
   "cell_type": "code",
   "execution_count": 44,
   "id": "56c0b1ec",
   "metadata": {},
   "outputs": [],
   "source": [
    "def Convert_to_int(value):\n",
    "    try:\n",
    "        suffix=value[-1] \n",
    "        if suffix=='M':\n",
    "            factor=1000000\n",
    "\n",
    "        elif suffix=='K':\n",
    "            factor=1000\n",
    "\n",
    "        else:\n",
    "            return value\n",
    "        return int(float(value[:-1])*factor)\n",
    "\n",
    "    except:\n",
    "        return value"
   ]
  },
  {
   "cell_type": "code",
   "execution_count": 45,
   "id": "43b90220",
   "metadata": {},
   "outputs": [],
   "source": [
    "youtube_df[\"avg likes\"]=youtube_df[\"avg likes\"].apply(Convert_to_int)"
   ]
  },
  {
   "cell_type": "code",
   "execution_count": 46,
   "id": "e318ac57",
   "metadata": {},
   "outputs": [
    {
     "data": {
      "text/plain": [
       "0         9800\n",
       "3        80800\n",
       "4      1700000\n",
       "7         2800\n",
       "8         4200\n",
       "        ...   \n",
       "995     110100\n",
       "996      30700\n",
       "997      10200\n",
       "998        854\n",
       "999       9800\n",
       "Name: avg likes, Length: 572, dtype: object"
      ]
     },
     "execution_count": 46,
     "metadata": {},
     "output_type": "execute_result"
    }
   ],
   "source": [
    "youtube_df[\"avg likes\"]"
   ]
  },
  {
   "cell_type": "code",
   "execution_count": 47,
   "id": "ffa4e393",
   "metadata": {},
   "outputs": [
    {
     "data": {
      "text/plain": [
       "youtuber name       object\n",
       "channel name        object\n",
       "Category            object\n",
       "Subscribers          int64\n",
       "Audience Country    object\n",
       "avg views            int64\n",
       "avg likes           object\n",
       "avg comments        object\n",
       "dtype: object"
      ]
     },
     "execution_count": 47,
     "metadata": {},
     "output_type": "execute_result"
    }
   ],
   "source": [
    "youtube_df.dtypes"
   ]
  },
  {
   "cell_type": "code",
   "execution_count": 48,
   "id": "741df3a4",
   "metadata": {},
   "outputs": [
    {
     "data": {
      "text/plain": [
       "array([9800, 80800, 1700000, 2800, 4200, 162700, 2300, 598900, '899',\n",
       "       62300, '631', 375700, 47400, 1400, '128', 2600, 1800, 1200, 140700,\n",
       "       5500, 149700, 17000, 1900, 10700, 12900, '136', 650500, 11400,\n",
       "       '790', 646500, 174600, 31700, '515', 165300, '35', 19700, 396400,\n",
       "       25800, 141900, 277400, 2400, 4700, '219', 54700, 51600, 28700,\n",
       "       81100, 2500, 2200, '530', 63200, 127600, 25300, 1600, 95800, 1700,\n",
       "       '906', 732000, 56500, 59500, 57500, 99900, 45600, 10800, 112200,\n",
       "       1300, 15400, 20300, 455200, 54800, 8700, 195600, 76200, 22900,\n",
       "       5000, 17300, 3700, 5800, 13200, 6900, 22400, 151600, 38800, '25',\n",
       "       6200, '355', '53', 7400, 11200, 21300, 7900, 105900, '648', 127400,\n",
       "       '139', '313', 23500, 49800, 141200, 6100, 3000, '804', 295000,\n",
       "       160000, '264', 3400, 68600, 34000, 22000, '540', 161300, 2700,\n",
       "       73800, 7200, '310', 24300, 18200, 23100, 16100, 4900, 26300, 59000,\n",
       "       17700, 354700, '131', 39900, 281500, 97000, 20100, 102300, 40200,\n",
       "       101000, 19900, 67300, '306', 106600, 22300, 437500, 62800, 10000,\n",
       "       '433', 55500, 92300, 79300, 81700, 3300, '198', 1500, 15100, 5200,\n",
       "       17100, 37500, 15200, 97400, 314600, 39200, 7300, 8600, 12300,\n",
       "       36700, 69800, 88100, 104000, 8000, '615', 65900, '903', 163800,\n",
       "       641500, 4100, 33800, 119200, 5600, 111300, 56800, 800900, 7700,\n",
       "       14200, 12100, 122600, '221', '588', '366', '645', '901', 140900,\n",
       "       429500, 17500, '455', 15000, 25400, 34600, 6600, '529', 23200,\n",
       "       '148', '186', 41000, 276400, 44000, '870', 8400, 3200, 63500,\n",
       "       140100, 62200, 1300000, 43800, 36800, 72700, 2900, 28200, '340',\n",
       "       276300, 93500, 24500, '779', 55700, 9400, '329', 5700, '328',\n",
       "       571500, '229', '179', 40000, 75700, 109600, 48800, '605', 9300,\n",
       "       '205', 78100, 82300, 265100, 2100, '47', 3100, 12200, 436900,\n",
       "       26800, 67700, 153800, '126', 5600000, '325', 338800, 8800, 80900,\n",
       "       14100, 38000, 137700, 39300, '123', 80100, '51', 7800, 19200,\n",
       "       37700, 84600, 21400, 153900, '191', 12400, 87700, 3800, 14300,\n",
       "       11800, '467', 4400, '74', 19000, 18000, 91500, 46300, 15600, '346',\n",
       "       45800, '564', 18600, 3500, 42300, 116600, 28400, 55900, 181200,\n",
       "       52800, 14700, 168200, 71200, 131000, 19500, 18100, 281700, '519',\n",
       "       35500, 1100, 130400, 789900, 70600, 294600, 10300, 169300, '177',\n",
       "       74900, 103700, 46500, '195', 47600, 101200, 13300, 54900, 194400,\n",
       "       49000, '84', 5400, 16300, '149', 63800, 194600, 21900, '40', 32200,\n",
       "       16500, '106', '50', 43200, '37', 5900, 74400, 230200, 170400,\n",
       "       45200, 24200, 100100, 126100, 142200, 57200, 274700, 89400, 29800,\n",
       "       16900, 83900, '924', 75400, 103200, 33400, 76000, 6000, 29600,\n",
       "       78600, 110300, 218100, 50700, 42600, 17800, 9700, 10200, 46200,\n",
       "       8200, 68300, 290000, 69300, 111000, 7600, '719', 336000, '92',\n",
       "       '663', 79900, 33900, 49300, 72200, 29400, 152900, '485', 61500,\n",
       "       '484', 55800, 82100, 34200, '914', 615500, '420', '343', '168',\n",
       "       89600, '808', 308300, 137000, 750300, '75', 13800, 233200, 154000,\n",
       "       10500, 47100, '114', '925', 13000, 4600, '749', '736', '157',\n",
       "       36500, 75500, 160800, '55', 88200, '192', 208700, 34400, 15300,\n",
       "       12800, 89300, 20500, 25200, 36400, 28100, 66900, 23300, 19600,\n",
       "       3600, '45', '217', 2000, 34500, 48500, '118', 7000, 9200, 3900,\n",
       "       5100, 4000, '308', 9100, 110100, 30700, '854'], dtype=object)"
      ]
     },
     "execution_count": 48,
     "metadata": {},
     "output_type": "execute_result"
    }
   ],
   "source": [
    "youtube_df['avg likes'].unique()"
   ]
  },
  {
   "cell_type": "code",
   "execution_count": 49,
   "id": "0bb43490",
   "metadata": {},
   "outputs": [],
   "source": [
    "youtube_df[\"avg likes\"] = youtube_df[\"avg likes\"].astype('int')"
   ]
  },
  {
   "cell_type": "code",
   "execution_count": 50,
   "id": "71a9580b",
   "metadata": {},
   "outputs": [
    {
     "data": {
      "text/plain": [
       "0         9800\n",
       "3        80800\n",
       "4      1700000\n",
       "7         2800\n",
       "8         4200\n",
       "        ...   \n",
       "995     110100\n",
       "996      30700\n",
       "997      10200\n",
       "998        854\n",
       "999       9800\n",
       "Name: avg likes, Length: 572, dtype: int32"
      ]
     },
     "execution_count": 50,
     "metadata": {},
     "output_type": "execute_result"
    }
   ],
   "source": [
    "youtube_df[\"avg likes\"]"
   ]
  },
  {
   "cell_type": "code",
   "execution_count": 51,
   "id": "d2ddca56",
   "metadata": {},
   "outputs": [],
   "source": [
    "youtube_df[\"avg comments\"] = youtube_df[\"avg comments\"].astype('int')"
   ]
  },
  {
   "cell_type": "code",
   "execution_count": 52,
   "id": "5c3e6e6f",
   "metadata": {},
   "outputs": [
    {
     "data": {
      "text/plain": [
       "0        290\n",
       "3       4600\n",
       "4      67700\n",
       "7        163\n",
       "8        155\n",
       "       ...  \n",
       "995     2500\n",
       "996      636\n",
       "997      874\n",
       "998       58\n",
       "999      246\n",
       "Name: avg comments, Length: 572, dtype: int32"
      ]
     },
     "execution_count": 52,
     "metadata": {},
     "output_type": "execute_result"
    }
   ],
   "source": [
    "youtube_df[\"avg comments\"]"
   ]
  },
  {
   "cell_type": "code",
   "execution_count": 53,
   "id": "f2952c89",
   "metadata": {},
   "outputs": [
    {
     "data": {
      "text/plain": [
       "youtuber name       object\n",
       "channel name        object\n",
       "Category            object\n",
       "Subscribers          int64\n",
       "Audience Country    object\n",
       "avg views            int64\n",
       "avg likes            int32\n",
       "avg comments         int32\n",
       "dtype: object"
      ]
     },
     "execution_count": 53,
     "metadata": {},
     "output_type": "execute_result"
    }
   ],
   "source": [
    "youtube_df.dtypes"
   ]
  },
  {
   "cell_type": "code",
   "execution_count": null,
   "id": "aedb6289",
   "metadata": {},
   "outputs": [],
   "source": [
    "#5.Heat map to show the correlations between different variables."
   ]
  },
  {
   "cell_type": "code",
   "execution_count": 54,
   "id": "caf4d9f6",
   "metadata": {},
   "outputs": [
    {
     "data": {
      "text/html": [
       "<div>\n",
       "<style scoped>\n",
       "    .dataframe tbody tr th:only-of-type {\n",
       "        vertical-align: middle;\n",
       "    }\n",
       "\n",
       "    .dataframe tbody tr th {\n",
       "        vertical-align: top;\n",
       "    }\n",
       "\n",
       "    .dataframe thead th {\n",
       "        text-align: right;\n",
       "    }\n",
       "</style>\n",
       "<table border=\"1\" class=\"dataframe\">\n",
       "  <thead>\n",
       "    <tr style=\"text-align: right;\">\n",
       "      <th></th>\n",
       "      <th>Subscribers</th>\n",
       "      <th>avg views</th>\n",
       "      <th>avg likes</th>\n",
       "      <th>avg comments</th>\n",
       "    </tr>\n",
       "  </thead>\n",
       "  <tbody>\n",
       "    <tr>\n",
       "      <th>Subscribers</th>\n",
       "      <td>1.000000</td>\n",
       "      <td>0.069015</td>\n",
       "      <td>0.070671</td>\n",
       "      <td>0.042651</td>\n",
       "    </tr>\n",
       "    <tr>\n",
       "      <th>avg views</th>\n",
       "      <td>0.069015</td>\n",
       "      <td>1.000000</td>\n",
       "      <td>0.950661</td>\n",
       "      <td>0.830955</td>\n",
       "    </tr>\n",
       "    <tr>\n",
       "      <th>avg likes</th>\n",
       "      <td>0.070671</td>\n",
       "      <td>0.950661</td>\n",
       "      <td>1.000000</td>\n",
       "      <td>0.863372</td>\n",
       "    </tr>\n",
       "    <tr>\n",
       "      <th>avg comments</th>\n",
       "      <td>0.042651</td>\n",
       "      <td>0.830955</td>\n",
       "      <td>0.863372</td>\n",
       "      <td>1.000000</td>\n",
       "    </tr>\n",
       "  </tbody>\n",
       "</table>\n",
       "</div>"
      ],
      "text/plain": [
       "              Subscribers  avg views  avg likes  avg comments\n",
       "Subscribers      1.000000   0.069015   0.070671      0.042651\n",
       "avg views        0.069015   1.000000   0.950661      0.830955\n",
       "avg likes        0.070671   0.950661   1.000000      0.863372\n",
       "avg comments     0.042651   0.830955   0.863372      1.000000"
      ]
     },
     "execution_count": 54,
     "metadata": {},
     "output_type": "execute_result"
    }
   ],
   "source": [
    "\n",
    "youtube_df.corr()"
   ]
  },
  {
   "cell_type": "code",
   "execution_count": 56,
   "id": "d4ef18ea",
   "metadata": {},
   "outputs": [
    {
     "data": {
      "image/png": "[encoded data removed]",
      "text/plain": [
       "<Figure size 400x400 with 2 Axes>"
      ]
     },
     "metadata": {},
     "output_type": "display_data"
    }
   ],
   "source": [
    "plt.figure(figsize=(4,4),dpi=100)\n",
    "sns.heatmap(youtube_df.corr(),annot=True,cmap=\"Blues\");"
   ]
  },
  {
   "cell_type": "code",
   "execution_count": null,
   "id": "48b815ec",
   "metadata": {},
   "outputs": [],
   "source": []
  }
 ],
 "metadata": {
  "kernelspec": {
   "display_name": "Python 3 (ipykernel)",
   "language": "python",
   "name": "python3"
  },
  "language_info": {
   "codemirror_mode": {
    "name": "ipython",
    "version": 3
   },
   "file_extension": ".py",
   "mimetype": "text/x-python",
   "name": "python",
   "nbconvert_exporter": "python",
   "pygments_lexer": "ipython3",
   "version": "3.9.13"
  }
 },
 "nbformat": 4,
 "nbformat_minor": 5
}

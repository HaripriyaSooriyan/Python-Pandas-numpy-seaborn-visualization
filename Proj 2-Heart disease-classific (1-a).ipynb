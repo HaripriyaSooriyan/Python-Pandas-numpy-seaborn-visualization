{
 "cells": [
  {
   "cell_type": "code",
   "execution_count": 1,
   "id": "d3068b44",
   "metadata": {},
   "outputs": [],
   "source": [
    "import matplotlib.pyplot as plt\n",
    "import pandas as pd"
   ]
  },
  {
   "cell_type": "code",
   "execution_count": 2,
   "id": "b888a2e0",
   "metadata": {},
   "outputs": [],
   "source": [
    "df=pd.read_csv(\"C:/Users/soori/Desktop/face class/Data sci-Projects/project 2 Machine learnig/heart-disease.csv\")"
   ]
  },
  {
   "cell_type": "code",
   "execution_count": 3,
   "id": "bec1cb78",
   "metadata": {},
   "outputs": [
    {
     "data": {
      "text/html": [
       "<div>\n",
       "<style scoped>\n",
       "    .dataframe tbody tr th:only-of-type {\n",
       "        vertical-align: middle;\n",
       "    }\n",
       "\n",
       "    .dataframe tbody tr th {\n",
       "        vertical-align: top;\n",
       "    }\n",
       "\n",
       "    .dataframe thead th {\n",
       "        text-align: right;\n",
       "    }\n",
       "</style>\n",
       "<table border=\"1\" class=\"dataframe\">\n",
       "  <thead>\n",
       "    <tr style=\"text-align: right;\">\n",
       "      <th></th>\n",
       "      <th>age</th>\n",
       "      <th>sex</th>\n",
       "      <th>cp</th>\n",
       "      <th>trestbps</th>\n",
       "      <th>chol</th>\n",
       "      <th>fbs</th>\n",
       "      <th>restecg</th>\n",
       "      <th>thalach</th>\n",
       "      <th>exang</th>\n",
       "      <th>oldpeak</th>\n",
       "      <th>slope</th>\n",
       "      <th>ca</th>\n",
       "      <th>thal</th>\n",
       "      <th>target</th>\n",
       "    </tr>\n",
       "  </thead>\n",
       "  <tbody>\n",
       "    <tr>\n",
       "      <th>0</th>\n",
       "      <td>63</td>\n",
       "      <td>1</td>\n",
       "      <td>3</td>\n",
       "      <td>145</td>\n",
       "      <td>233</td>\n",
       "      <td>1</td>\n",
       "      <td>0</td>\n",
       "      <td>150</td>\n",
       "      <td>0</td>\n",
       "      <td>2.3</td>\n",
       "      <td>0</td>\n",
       "      <td>0</td>\n",
       "      <td>1</td>\n",
       "      <td>1</td>\n",
       "    </tr>\n",
       "    <tr>\n",
       "      <th>1</th>\n",
       "      <td>37</td>\n",
       "      <td>1</td>\n",
       "      <td>2</td>\n",
       "      <td>130</td>\n",
       "      <td>250</td>\n",
       "      <td>0</td>\n",
       "      <td>1</td>\n",
       "      <td>187</td>\n",
       "      <td>0</td>\n",
       "      <td>3.5</td>\n",
       "      <td>0</td>\n",
       "      <td>0</td>\n",
       "      <td>2</td>\n",
       "      <td>1</td>\n",
       "    </tr>\n",
       "    <tr>\n",
       "      <th>2</th>\n",
       "      <td>41</td>\n",
       "      <td>0</td>\n",
       "      <td>1</td>\n",
       "      <td>130</td>\n",
       "      <td>204</td>\n",
       "      <td>0</td>\n",
       "      <td>0</td>\n",
       "      <td>172</td>\n",
       "      <td>0</td>\n",
       "      <td>1.4</td>\n",
       "      <td>2</td>\n",
       "      <td>0</td>\n",
       "      <td>2</td>\n",
       "      <td>1</td>\n",
       "    </tr>\n",
       "    <tr>\n",
       "      <th>3</th>\n",
       "      <td>56</td>\n",
       "      <td>1</td>\n",
       "      <td>1</td>\n",
       "      <td>120</td>\n",
       "      <td>236</td>\n",
       "      <td>0</td>\n",
       "      <td>1</td>\n",
       "      <td>178</td>\n",
       "      <td>0</td>\n",
       "      <td>0.8</td>\n",
       "      <td>2</td>\n",
       "      <td>0</td>\n",
       "      <td>2</td>\n",
       "      <td>1</td>\n",
       "    </tr>\n",
       "    <tr>\n",
       "      <th>4</th>\n",
       "      <td>57</td>\n",
       "      <td>0</td>\n",
       "      <td>0</td>\n",
       "      <td>120</td>\n",
       "      <td>354</td>\n",
       "      <td>0</td>\n",
       "      <td>1</td>\n",
       "      <td>163</td>\n",
       "      <td>1</td>\n",
       "      <td>0.6</td>\n",
       "      <td>2</td>\n",
       "      <td>0</td>\n",
       "      <td>2</td>\n",
       "      <td>1</td>\n",
       "    </tr>\n",
       "  </tbody>\n",
       "</table>\n",
       "</div>"
      ],
      "text/plain": [
       "   age  sex  cp  trestbps  chol  fbs  restecg  thalach  exang  oldpeak  slope  \\\n",
       "0   63    1   3       145   233    1        0      150      0      2.3      0   \n",
       "1   37    1   2       130   250    0        1      187      0      3.5      0   \n",
       "2   41    0   1       130   204    0        0      172      0      1.4      2   \n",
       "3   56    1   1       120   236    0        1      178      0      0.8      2   \n",
       "4   57    0   0       120   354    0        1      163      1      0.6      2   \n",
       "\n",
       "   ca  thal  target  \n",
       "0   0     1       1  \n",
       "1   0     2       1  \n",
       "2   0     2       1  \n",
       "3   0     2       1  \n",
       "4   0     2       1  "
      ]
     },
     "execution_count": 3,
     "metadata": {},
     "output_type": "execute_result"
    }
   ],
   "source": [
    "df.head()"
   ]
  },
  {
   "cell_type": "code",
   "execution_count": 4,
   "id": "a6323ea6",
   "metadata": {},
   "outputs": [
    {
     "data": {
      "text/plain": [
       "<AxesSubplot:xlabel='age', ylabel='chol'>"
      ]
     },
     "execution_count": 4,
     "metadata": {},
     "output_type": "execute_result"
    },
    {
     "data": {
      "image/png": "[encoded data removed]",
      "text/plain": [
       "<Figure size 640x480 with 1 Axes>"
      ]
     },
     "metadata": {},
     "output_type": "display_data"
    }
   ],
   "source": [
    "import seaborn as sns\n",
    "sns.scatterplot(x='age',y='chol',data=df,hue='target')"
   ]
  },
  {
   "cell_type": "code",
   "execution_count": 5,
   "id": "b47192b0",
   "metadata": {},
   "outputs": [
    {
     "data": {
      "text/plain": [
       "<AxesSubplot:xlabel='age', ylabel='target'>"
      ]
     },
     "execution_count": 5,
     "metadata": {},
     "output_type": "execute_result"
    },
    {
     "data": {
      "image/png": "[encoded data removed]",
      "text/plain": [
       "<Figure size 640x480 with 1 Axes>"
      ]
     },
     "metadata": {},
     "output_type": "display_data"
    }
   ],
   "source": [
    "sns.scatterplot(x='age',y='target',data=df,hue='chol')"
   ]
  },
  {
   "cell_type": "code",
   "execution_count": 6,
   "id": "3d851184",
   "metadata": {},
   "outputs": [
    {
     "data": {
      "text/plain": [
       "(303, 14)"
      ]
     },
     "execution_count": 6,
     "metadata": {},
     "output_type": "execute_result"
    }
   ],
   "source": [
    "df.shape"
   ]
  },
  {
   "cell_type": "code",
   "execution_count": 7,
   "id": "313638db",
   "metadata": {},
   "outputs": [
    {
     "name": "stdout",
     "output_type": "stream",
     "text": [
      "<class 'pandas.core.frame.DataFrame'>\n",
      "RangeIndex: 303 entries, 0 to 302\n",
      "Data columns (total 14 columns):\n",
      " #   Column    Non-Null Count  Dtype  \n",
      "---  ------    --------------  -----  \n",
      " 0   age       303 non-null    int64  \n",
      " 1   sex       303 non-null    int64  \n",
      " 2   cp        303 non-null    int64  \n",
      " 3   trestbps  303 non-null    int64  \n",
      " 4   chol      303 non-null    int64  \n",
      " 5   fbs       303 non-null    int64  \n",
      " 6   restecg   303 non-null    int64  \n",
      " 7   thalach   303 non-null    int64  \n",
      " 8   exang     303 non-null    int64  \n",
      " 9   oldpeak   303 non-null    float64\n",
      " 10  slope     303 non-null    int64  \n",
      " 11  ca        303 non-null    int64  \n",
      " 12  thal      303 non-null    int64  \n",
      " 13  target    303 non-null    int64  \n",
      "dtypes: float64(1), int64(13)\n",
      "memory usage: 33.3 KB\n"
     ]
    }
   ],
   "source": [
    "df.info()"
   ]
  },
  {
   "cell_type": "code",
   "execution_count": 8,
   "id": "16af7570",
   "metadata": {},
   "outputs": [
    {
     "data": {
      "text/plain": [
       "age         0\n",
       "sex         0\n",
       "cp          0\n",
       "trestbps    0\n",
       "chol        0\n",
       "fbs         0\n",
       "restecg     0\n",
       "thalach     0\n",
       "exang       0\n",
       "oldpeak     0\n",
       "slope       0\n",
       "ca          0\n",
       "thal        0\n",
       "target      0\n",
       "dtype: int64"
      ]
     },
     "execution_count": 8,
     "metadata": {},
     "output_type": "execute_result"
    }
   ],
   "source": [
    "df.isnull().sum()"
   ]
  },
  {
   "cell_type": "code",
   "execution_count": 9,
   "id": "5b78e389",
   "metadata": {},
   "outputs": [
    {
     "data": {
      "text/html": [
       "<div>\n",
       "<style scoped>\n",
       "    .dataframe tbody tr th:only-of-type {\n",
       "        vertical-align: middle;\n",
       "    }\n",
       "\n",
       "    .dataframe tbody tr th {\n",
       "        vertical-align: top;\n",
       "    }\n",
       "\n",
       "    .dataframe thead th {\n",
       "        text-align: right;\n",
       "    }\n",
       "</style>\n",
       "<table border=\"1\" class=\"dataframe\">\n",
       "  <thead>\n",
       "    <tr style=\"text-align: right;\">\n",
       "      <th></th>\n",
       "      <th>age</th>\n",
       "      <th>chol</th>\n",
       "    </tr>\n",
       "  </thead>\n",
       "  <tbody>\n",
       "    <tr>\n",
       "      <th>0</th>\n",
       "      <td>63</td>\n",
       "      <td>233</td>\n",
       "    </tr>\n",
       "    <tr>\n",
       "      <th>1</th>\n",
       "      <td>37</td>\n",
       "      <td>250</td>\n",
       "    </tr>\n",
       "    <tr>\n",
       "      <th>2</th>\n",
       "      <td>41</td>\n",
       "      <td>204</td>\n",
       "    </tr>\n",
       "    <tr>\n",
       "      <th>3</th>\n",
       "      <td>56</td>\n",
       "      <td>236</td>\n",
       "    </tr>\n",
       "    <tr>\n",
       "      <th>4</th>\n",
       "      <td>57</td>\n",
       "      <td>354</td>\n",
       "    </tr>\n",
       "    <tr>\n",
       "      <th>...</th>\n",
       "      <td>...</td>\n",
       "      <td>...</td>\n",
       "    </tr>\n",
       "    <tr>\n",
       "      <th>298</th>\n",
       "      <td>57</td>\n",
       "      <td>241</td>\n",
       "    </tr>\n",
       "    <tr>\n",
       "      <th>299</th>\n",
       "      <td>45</td>\n",
       "      <td>264</td>\n",
       "    </tr>\n",
       "    <tr>\n",
       "      <th>300</th>\n",
       "      <td>68</td>\n",
       "      <td>193</td>\n",
       "    </tr>\n",
       "    <tr>\n",
       "      <th>301</th>\n",
       "      <td>57</td>\n",
       "      <td>131</td>\n",
       "    </tr>\n",
       "    <tr>\n",
       "      <th>302</th>\n",
       "      <td>57</td>\n",
       "      <td>236</td>\n",
       "    </tr>\n",
       "  </tbody>\n",
       "</table>\n",
       "<p>303 rows × 2 columns</p>\n",
       "</div>"
      ],
      "text/plain": [
       "     age  chol\n",
       "0     63   233\n",
       "1     37   250\n",
       "2     41   204\n",
       "3     56   236\n",
       "4     57   354\n",
       "..   ...   ...\n",
       "298   57   241\n",
       "299   45   264\n",
       "300   68   193\n",
       "301   57   131\n",
       "302   57   236\n",
       "\n",
       "[303 rows x 2 columns]"
      ]
     },
     "execution_count": 9,
     "metadata": {},
     "output_type": "execute_result"
    }
   ],
   "source": [
    "df.iloc[:,[0,4]]"
   ]
  },
  {
   "cell_type": "code",
   "execution_count": 10,
   "id": "9931ffe6",
   "metadata": {},
   "outputs": [
    {
     "data": {
      "text/plain": [
       "array([[ 63, 233],\n",
       "       [ 37, 250],\n",
       "       [ 41, 204],\n",
       "       [ 56, 236],\n",
       "       [ 57, 354],\n",
       "       [ 57, 192],\n",
       "       [ 56, 294],\n",
       "       [ 44, 263],\n",
       "       [ 52, 199],\n",
       "       [ 57, 168],\n",
       "       [ 54, 239],\n",
       "       [ 48, 275],\n",
       "       [ 49, 266],\n",
       "       [ 64, 211],\n",
       "       [ 58, 283],\n",
       "       [ 50, 219],\n",
       "       [ 58, 340],\n",
       "       [ 66, 226],\n",
       "       [ 43, 247],\n",
       "       [ 69, 239],\n",
       "       [ 59, 234],\n",
       "       [ 44, 233],\n",
       "       [ 42, 226],\n",
       "       [ 61, 243],\n",
       "       [ 40, 199],\n",
       "       [ 71, 302],\n",
       "       [ 59, 212],\n",
       "       [ 51, 175],\n",
       "       [ 65, 417],\n",
       "       [ 53, 197],\n",
       "       [ 41, 198],\n",
       "       [ 65, 177],\n",
       "       [ 44, 219],\n",
       "       [ 54, 273],\n",
       "       [ 51, 213],\n",
       "       [ 46, 177],\n",
       "       [ 54, 304],\n",
       "       [ 54, 232],\n",
       "       [ 65, 269],\n",
       "       [ 65, 360],\n",
       "       [ 51, 308],\n",
       "       [ 48, 245],\n",
       "       [ 45, 208],\n",
       "       [ 53, 264],\n",
       "       [ 39, 321],\n",
       "       [ 52, 325],\n",
       "       [ 44, 235],\n",
       "       [ 47, 257],\n",
       "       [ 53, 216],\n",
       "       [ 53, 234],\n",
       "       [ 51, 256],\n",
       "       [ 66, 302],\n",
       "       [ 62, 231],\n",
       "       [ 44, 141],\n",
       "       [ 63, 252],\n",
       "       [ 52, 201],\n",
       "       [ 48, 222],\n",
       "       [ 45, 260],\n",
       "       [ 34, 182],\n",
       "       [ 57, 303],\n",
       "       [ 71, 265],\n",
       "       [ 54, 309],\n",
       "       [ 52, 186],\n",
       "       [ 41, 203],\n",
       "       [ 58, 211],\n",
       "       [ 35, 183],\n",
       "       [ 51, 222],\n",
       "       [ 45, 234],\n",
       "       [ 44, 220],\n",
       "       [ 62, 209],\n",
       "       [ 54, 258],\n",
       "       [ 51, 227],\n",
       "       [ 29, 204],\n",
       "       [ 51, 261],\n",
       "       [ 43, 213],\n",
       "       [ 55, 250],\n",
       "       [ 51, 245],\n",
       "       [ 59, 221],\n",
       "       [ 52, 205],\n",
       "       [ 58, 240],\n",
       "       [ 41, 250],\n",
       "       [ 45, 308],\n",
       "       [ 60, 318],\n",
       "       [ 52, 298],\n",
       "       [ 42, 265],\n",
       "       [ 67, 564],\n",
       "       [ 68, 277],\n",
       "       [ 46, 197],\n",
       "       [ 54, 214],\n",
       "       [ 58, 248],\n",
       "       [ 48, 255],\n",
       "       [ 57, 207],\n",
       "       [ 52, 223],\n",
       "       [ 54, 288],\n",
       "       [ 45, 160],\n",
       "       [ 53, 226],\n",
       "       [ 62, 394],\n",
       "       [ 52, 233],\n",
       "       [ 43, 315],\n",
       "       [ 53, 246],\n",
       "       [ 42, 244],\n",
       "       [ 59, 270],\n",
       "       [ 63, 195],\n",
       "       [ 42, 240],\n",
       "       [ 50, 196],\n",
       "       [ 68, 211],\n",
       "       [ 69, 234],\n",
       "       [ 45, 236],\n",
       "       [ 50, 244],\n",
       "       [ 50, 254],\n",
       "       [ 64, 325],\n",
       "       [ 57, 126],\n",
       "       [ 64, 313],\n",
       "       [ 43, 211],\n",
       "       [ 55, 262],\n",
       "       [ 37, 215],\n",
       "       [ 41, 214],\n",
       "       [ 56, 193],\n",
       "       [ 46, 204],\n",
       "       [ 46, 243],\n",
       "       [ 64, 303],\n",
       "       [ 59, 271],\n",
       "       [ 41, 268],\n",
       "       [ 54, 267],\n",
       "       [ 39, 199],\n",
       "       [ 34, 210],\n",
       "       [ 47, 204],\n",
       "       [ 67, 277],\n",
       "       [ 52, 196],\n",
       "       [ 74, 269],\n",
       "       [ 54, 201],\n",
       "       [ 49, 271],\n",
       "       [ 42, 295],\n",
       "       [ 41, 235],\n",
       "       [ 41, 306],\n",
       "       [ 49, 269],\n",
       "       [ 60, 178],\n",
       "       [ 62, 208],\n",
       "       [ 57, 201],\n",
       "       [ 64, 263],\n",
       "       [ 51, 295],\n",
       "       [ 43, 303],\n",
       "       [ 42, 209],\n",
       "       [ 67, 223],\n",
       "       [ 76, 197],\n",
       "       [ 70, 245],\n",
       "       [ 44, 242],\n",
       "       [ 60, 240],\n",
       "       [ 44, 226],\n",
       "       [ 42, 180],\n",
       "       [ 66, 228],\n",
       "       [ 71, 149],\n",
       "       [ 64, 227],\n",
       "       [ 66, 278],\n",
       "       [ 39, 220],\n",
       "       [ 58, 197],\n",
       "       [ 47, 253],\n",
       "       [ 35, 192],\n",
       "       [ 58, 220],\n",
       "       [ 56, 221],\n",
       "       [ 56, 240],\n",
       "       [ 55, 342],\n",
       "       [ 41, 157],\n",
       "       [ 38, 175],\n",
       "       [ 38, 175],\n",
       "       [ 67, 286],\n",
       "       [ 67, 229],\n",
       "       [ 62, 268],\n",
       "       [ 63, 254],\n",
       "       [ 53, 203],\n",
       "       [ 56, 256],\n",
       "       [ 48, 229],\n",
       "       [ 58, 284],\n",
       "       [ 58, 224],\n",
       "       [ 60, 206],\n",
       "       [ 40, 167],\n",
       "       [ 60, 230],\n",
       "       [ 64, 335],\n",
       "       [ 43, 177],\n",
       "       [ 57, 276],\n",
       "       [ 55, 353],\n",
       "       [ 65, 225],\n",
       "       [ 61, 330],\n",
       "       [ 58, 230],\n",
       "       [ 50, 243],\n",
       "       [ 44, 290],\n",
       "       [ 60, 253],\n",
       "       [ 54, 266],\n",
       "       [ 50, 233],\n",
       "       [ 41, 172],\n",
       "       [ 51, 305],\n",
       "       [ 58, 216],\n",
       "       [ 54, 188],\n",
       "       [ 60, 282],\n",
       "       [ 60, 185],\n",
       "       [ 59, 326],\n",
       "       [ 46, 231],\n",
       "       [ 67, 254],\n",
       "       [ 62, 267],\n",
       "       [ 65, 248],\n",
       "       [ 44, 197],\n",
       "       [ 60, 258],\n",
       "       [ 58, 270],\n",
       "       [ 68, 274],\n",
       "       [ 62, 164],\n",
       "       [ 52, 255],\n",
       "       [ 59, 239],\n",
       "       [ 60, 258],\n",
       "       [ 49, 188],\n",
       "       [ 59, 177],\n",
       "       [ 57, 229],\n",
       "       [ 61, 260],\n",
       "       [ 39, 219],\n",
       "       [ 61, 307],\n",
       "       [ 56, 249],\n",
       "       [ 43, 341],\n",
       "       [ 62, 263],\n",
       "       [ 63, 330],\n",
       "       [ 65, 254],\n",
       "       [ 48, 256],\n",
       "       [ 63, 407],\n",
       "       [ 55, 217],\n",
       "       [ 65, 282],\n",
       "       [ 56, 288],\n",
       "       [ 54, 239],\n",
       "       [ 70, 174],\n",
       "       [ 62, 281],\n",
       "       [ 35, 198],\n",
       "       [ 59, 288],\n",
       "       [ 64, 309],\n",
       "       [ 47, 243],\n",
       "       [ 57, 289],\n",
       "       [ 55, 289],\n",
       "       [ 64, 246],\n",
       "       [ 70, 322],\n",
       "       [ 51, 299],\n",
       "       [ 58, 300],\n",
       "       [ 60, 293],\n",
       "       [ 77, 304],\n",
       "       [ 35, 282],\n",
       "       [ 70, 269],\n",
       "       [ 59, 249],\n",
       "       [ 64, 212],\n",
       "       [ 57, 274],\n",
       "       [ 56, 184],\n",
       "       [ 48, 274],\n",
       "       [ 56, 409],\n",
       "       [ 66, 246],\n",
       "       [ 54, 283],\n",
       "       [ 69, 254],\n",
       "       [ 51, 298],\n",
       "       [ 43, 247],\n",
       "       [ 62, 294],\n",
       "       [ 67, 299],\n",
       "       [ 59, 273],\n",
       "       [ 45, 309],\n",
       "       [ 58, 259],\n",
       "       [ 50, 200],\n",
       "       [ 62, 244],\n",
       "       [ 38, 231],\n",
       "       [ 66, 228],\n",
       "       [ 52, 230],\n",
       "       [ 53, 282],\n",
       "       [ 63, 269],\n",
       "       [ 54, 206],\n",
       "       [ 66, 212],\n",
       "       [ 55, 327],\n",
       "       [ 49, 149],\n",
       "       [ 54, 286],\n",
       "       [ 56, 283],\n",
       "       [ 46, 249],\n",
       "       [ 61, 234],\n",
       "       [ 67, 237],\n",
       "       [ 58, 234],\n",
       "       [ 47, 275],\n",
       "       [ 52, 212],\n",
       "       [ 58, 218],\n",
       "       [ 57, 261],\n",
       "       [ 58, 319],\n",
       "       [ 61, 166],\n",
       "       [ 42, 315],\n",
       "       [ 52, 204],\n",
       "       [ 59, 218],\n",
       "       [ 40, 223],\n",
       "       [ 61, 207],\n",
       "       [ 46, 311],\n",
       "       [ 59, 204],\n",
       "       [ 57, 232],\n",
       "       [ 57, 335],\n",
       "       [ 55, 205],\n",
       "       [ 61, 203],\n",
       "       [ 58, 318],\n",
       "       [ 58, 225],\n",
       "       [ 67, 212],\n",
       "       [ 44, 169],\n",
       "       [ 63, 187],\n",
       "       [ 63, 197],\n",
       "       [ 59, 176],\n",
       "       [ 57, 241],\n",
       "       [ 45, 264],\n",
       "       [ 68, 193],\n",
       "       [ 57, 131],\n",
       "       [ 57, 236]], dtype=int64)"
      ]
     },
     "execution_count": 10,
     "metadata": {},
     "output_type": "execute_result"
    }
   ],
   "source": [
    "df.iloc[:,[0,4]].values"
   ]
  },
  {
   "cell_type": "code",
   "execution_count": 11,
   "id": "61674eab",
   "metadata": {},
   "outputs": [
    {
     "data": {
      "text/plain": [
       "array([1, 1, 1, 1, 1, 1, 1, 1, 1, 1, 1, 1, 1, 1, 1, 1, 1, 1, 1, 1, 1, 1,\n",
       "       1, 1, 1, 1, 1, 1, 1, 1, 1, 1, 1, 1, 1, 1, 1, 1, 1, 1, 1, 1, 1, 1,\n",
       "       1, 1, 1, 1, 1, 1, 1, 1, 1, 1, 1, 1, 1, 1, 1, 1, 1, 1, 1, 1, 1, 1,\n",
       "       1, 1, 1, 1, 1, 1, 1, 1, 1, 1, 1, 1, 1, 1, 1, 1, 1, 1, 1, 1, 1, 1,\n",
       "       1, 1, 1, 1, 1, 1, 1, 1, 1, 1, 1, 1, 1, 1, 1, 1, 1, 1, 1, 1, 1, 1,\n",
       "       1, 1, 1, 1, 1, 1, 1, 1, 1, 1, 1, 1, 1, 1, 1, 1, 1, 1, 1, 1, 1, 1,\n",
       "       1, 1, 1, 1, 1, 1, 1, 1, 1, 1, 1, 1, 1, 1, 1, 1, 1, 1, 1, 1, 1, 1,\n",
       "       1, 1, 1, 1, 1, 1, 1, 1, 1, 1, 1, 0, 0, 0, 0, 0, 0, 0, 0, 0, 0, 0,\n",
       "       0, 0, 0, 0, 0, 0, 0, 0, 0, 0, 0, 0, 0, 0, 0, 0, 0, 0, 0, 0, 0, 0,\n",
       "       0, 0, 0, 0, 0, 0, 0, 0, 0, 0, 0, 0, 0, 0, 0, 0, 0, 0, 0, 0, 0, 0,\n",
       "       0, 0, 0, 0, 0, 0, 0, 0, 0, 0, 0, 0, 0, 0, 0, 0, 0, 0, 0, 0, 0, 0,\n",
       "       0, 0, 0, 0, 0, 0, 0, 0, 0, 0, 0, 0, 0, 0, 0, 0, 0, 0, 0, 0, 0, 0,\n",
       "       0, 0, 0, 0, 0, 0, 0, 0, 0, 0, 0, 0, 0, 0, 0, 0, 0, 0, 0, 0, 0, 0,\n",
       "       0, 0, 0, 0, 0, 0, 0, 0, 0, 0, 0, 0, 0, 0, 0, 0, 0], dtype=int64)"
      ]
     },
     "execution_count": 11,
     "metadata": {},
     "output_type": "execute_result"
    }
   ],
   "source": [
    "df.iloc[:,-1].values"
   ]
  },
  {
   "cell_type": "code",
   "execution_count": 50,
   "id": "ce75069d",
   "metadata": {},
   "outputs": [],
   "source": [
    "x=df.iloc[:,[0,4,6]].values\n",
    "y=df.iloc[:,-1].values"
   ]
  },
  {
   "cell_type": "code",
   "execution_count": 51,
   "id": "e0b1be75",
   "metadata": {},
   "outputs": [
    {
     "data": {
      "text/plain": [
       "array([[ 63, 233,   0],\n",
       "       [ 37, 250,   1],\n",
       "       [ 41, 204,   0],\n",
       "       [ 56, 236,   1],\n",
       "       [ 57, 354,   1]], dtype=int64)"
      ]
     },
     "execution_count": 51,
     "metadata": {},
     "output_type": "execute_result"
    }
   ],
   "source": [
    "x[:5]"
   ]
  },
  {
   "cell_type": "code",
   "execution_count": 52,
   "id": "b6e78980",
   "metadata": {},
   "outputs": [
    {
     "data": {
      "text/plain": [
       "array([1, 1, 1, 1, 1], dtype=int64)"
      ]
     },
     "execution_count": 52,
     "metadata": {},
     "output_type": "execute_result"
    }
   ],
   "source": [
    "y[:5]"
   ]
  },
  {
   "cell_type": "code",
   "execution_count": 53,
   "id": "5d0feb52",
   "metadata": {},
   "outputs": [],
   "source": [
    "from sklearn.preprocessing import StandardScaler"
   ]
  },
  {
   "cell_type": "code",
   "execution_count": 54,
   "id": "651c9f7e",
   "metadata": {},
   "outputs": [],
   "source": [
    "sc=StandardScaler()\n",
    "x=sc.fit_transform(x)"
   ]
  },
  {
   "cell_type": "code",
   "execution_count": 55,
   "id": "d532036a",
   "metadata": {},
   "outputs": [
    {
     "data": {
      "text/plain": [
       "array([[ 0.9521966 , -0.25633371, -1.00583187],\n",
       "       [-1.91531289,  0.07219949,  0.89896224],\n",
       "       [-1.47415758, -0.81677269, -1.00583187],\n",
       "       [ 0.18017482, -0.19835726,  0.89896224],\n",
       "       [ 0.29046364,  2.08204965,  0.89896224]])"
      ]
     },
     "execution_count": 55,
     "metadata": {},
     "output_type": "execute_result"
    }
   ],
   "source": [
    "x[:5]"
   ]
  },
  {
   "cell_type": "code",
   "execution_count": 56,
   "id": "269b3749",
   "metadata": {},
   "outputs": [],
   "source": [
    "from sklearn.model_selection import train_test_split\n",
    "x_train,x_test,y_train,y_test=train_test_split(x,y,test_size=0.25,random_state=0)"
   ]
  },
  {
   "cell_type": "code",
   "execution_count": 57,
   "id": "eef10ee8",
   "metadata": {},
   "outputs": [
    {
     "data": {
      "text/plain": [
       "array([[ 0.40075247, -0.43026305, -1.00583187],\n",
       "       [-0.26098049, -0.31431015,  0.89896224],\n",
       "       [-0.04040284, -0.27565919, -1.00583187],\n",
       "       [ 0.5110413 ,  0.45870914, -1.00583187],\n",
       "       [ 1.39335191, -0.33363564, -1.00583187]])"
      ]
     },
     "execution_count": 57,
     "metadata": {},
     "output_type": "execute_result"
    }
   ],
   "source": [
    "x_train[:5]"
   ]
  },
  {
   "cell_type": "code",
   "execution_count": 58,
   "id": "ad648d22",
   "metadata": {},
   "outputs": [
    {
     "data": {
      "text/plain": [
       "array([0, 0, 1, 1, 0], dtype=int64)"
      ]
     },
     "execution_count": 58,
     "metadata": {},
     "output_type": "execute_result"
    }
   ],
   "source": [
    "y_train[:5]"
   ]
  },
  {
   "cell_type": "code",
   "execution_count": 59,
   "id": "b36f94ea",
   "metadata": {},
   "outputs": [
    {
     "data": {
      "text/plain": [
       "((227, 3), (76, 3), (227,), (76,))"
      ]
     },
     "execution_count": 59,
     "metadata": {},
     "output_type": "execute_result"
    }
   ],
   "source": [
    "x_train.shape,x_test.shape,y_train.shape,y_test.shape"
   ]
  },
  {
   "cell_type": "code",
   "execution_count": 60,
   "id": "c686a1fb",
   "metadata": {},
   "outputs": [],
   "source": [
    "from sklearn.linear_model import LogisticRegression"
   ]
  },
  {
   "cell_type": "code",
   "execution_count": 61,
   "id": "b5ab4b34",
   "metadata": {},
   "outputs": [
    {
     "data": {
      "text/plain": [
       "LogisticRegression()"
      ]
     },
     "execution_count": 61,
     "metadata": {},
     "output_type": "execute_result"
    }
   ],
   "source": [
    "classifier=LogisticRegression()\n",
    "classifier.fit(x_train,y_train)"
   ]
  },
  {
   "cell_type": "code",
   "execution_count": 62,
   "id": "a2131b9d",
   "metadata": {},
   "outputs": [
    {
     "data": {
      "text/plain": [
       "array([0, 0, 0, 0, 0, 1, 1, 0, 0, 0], dtype=int64)"
      ]
     },
     "execution_count": 62,
     "metadata": {},
     "output_type": "execute_result"
    }
   ],
   "source": [
    "y_pred=classifier.predict(x_test)\n",
    "y_pred[:10]"
   ]
  },
  {
   "cell_type": "code",
   "execution_count": 63,
   "id": "4138c10b",
   "metadata": {},
   "outputs": [],
   "source": [
    "from sklearn.metrics import confusion_matrix"
   ]
  },
  {
   "cell_type": "code",
   "execution_count": 64,
   "id": "13f1016d",
   "metadata": {},
   "outputs": [
    {
     "name": "stdout",
     "output_type": "stream",
     "text": [
      "[[20 13]\n",
      " [ 8 35]]\n"
     ]
    }
   ],
   "source": [
    "cm=confusion_matrix(y_test,y_pred)\n",
    "print(cm)"
   ]
  },
  {
   "cell_type": "code",
   "execution_count": 65,
   "id": "ddb895b4",
   "metadata": {},
   "outputs": [],
   "source": [
    "from sklearn.metrics import classification_report"
   ]
  },
  {
   "cell_type": "code",
   "execution_count": 66,
   "id": "6096fd78",
   "metadata": {},
   "outputs": [
    {
     "name": "stdout",
     "output_type": "stream",
     "text": [
      "              precision    recall  f1-score   support\n",
      "\n",
      "           0       0.71      0.61      0.66        33\n",
      "           1       0.73      0.81      0.77        43\n",
      "\n",
      "    accuracy                           0.72        76\n",
      "   macro avg       0.72      0.71      0.71        76\n",
      "weighted avg       0.72      0.72      0.72        76\n",
      "\n"
     ]
    }
   ],
   "source": [
    "print(classification_report(y_test,y_pred))"
   ]
  },
  {
   "cell_type": "code",
   "execution_count": 67,
   "id": "206c8e46",
   "metadata": {},
   "outputs": [
    {
     "data": {
      "text/plain": [
       "0.7236842105263158"
      ]
     },
     "execution_count": 67,
     "metadata": {},
     "output_type": "execute_result"
    }
   ],
   "source": [
    "classifier.score(x_test,y_test)"
   ]
  },
  {
   "cell_type": "code",
   "execution_count": null,
   "id": "007a2a05",
   "metadata": {},
   "outputs": [],
   "source": []
  }
 ],
 "metadata": {
  "kernelspec": {
   "display_name": "Python 3 (ipykernel)",
   "language": "python",
   "name": "python3"
  },
  "language_info": {
   "codemirror_mode": {
    "name": "ipython",
    "version": 3
   },
   "file_extension": ".py",
   "mimetype": "text/x-python",
   "name": "python",
   "nbconvert_exporter": "python",
   "pygments_lexer": "ipython3",
   "version": "3.9.13"
  }
 },
 "nbformat": 4,
 "nbformat_minor": 5
}
